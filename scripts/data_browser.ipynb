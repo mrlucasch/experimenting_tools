{
 "cells": [
  {
   "cell_type": "code",
   "execution_count": 130,
   "metadata": {},
   "outputs": [],
   "source": [
    "import experiment\n",
    "from IPython.display import Image\n",
    "import os\n",
    "from prettytable import PrettyTable\n",
    "from IPython.core.display import Image, display,Markdown\n"
   ]
  },
  {
   "cell_type": "code",
   "execution_count": 200,
   "metadata": {},
   "outputs": [],
   "source": [
    "def display_data(graph):\n",
    "    \n",
    "    display(Markdown(\"### Graph: \\n\"))\n",
    "    if os.path.exists(graph[\"location\"]):\n",
    "        display(Image(filename=graph[\"location\"]))\n",
    "        \n",
    "    else:\n",
    "        print(\"NO IMAGE\")\n",
    "    #print(\"Details:\")\n",
    "\n",
    "    #print (desc)\n",
    "    display(Markdown(\"### Name: \\n\"+graph[\"graph\"]))\n",
    "    print(\"\")\n",
    "    display(Markdown(\"### Description: \\n\"+graph[\"desc\"]))\n",
    "    print(\"\")\n",
    "    display(Markdown(\"### Cofiguration: \\n\"+graph[\"config\"]))\n",
    "    print(\"\")\n",
    "    display(Markdown(\"### Tags:\\n\"+\",\".join(graph[\"tags\"])))\n",
    "    print(\"\")\n",
    "    display(Markdown(\"### Image Location:\\n\"+graph[\"location\"]))\n",
    "    print(\"\")\n",
    "    display(Markdown(\"### Data Location:\\n\"+graph[\"dataset\"]))\n",
    "    if os.path.exists(graph[\"dataset\"]):\n",
    "        return experiment.read_data(graph[\"dataset\"])\n",
    "    else:\n",
    "        return None"
   ]
  },
  {
   "cell_type": "code",
   "execution_count": 192,
   "metadata": {},
   "outputs": [],
   "source": [
    "def fetch_json(direct):\n",
    "    directory = os.fsencode(direct)\n",
    "    fnames = []\n",
    "    for file in os.listdir(directory):\n",
    "        filename = os.fsdecode(file)\n",
    "        if filename.endswith(\".json\") : \n",
    "            # print(os.path.join(directory, filename))\n",
    "            fnames.append(direct+\"/\"+filename)\n",
    "            #print(filename)\n",
    "            continue\n",
    "        else:\n",
    "            continue\n",
    "    return fnames"
   ]
  },
  {
   "cell_type": "code",
   "execution_count": 238,
   "metadata": {},
   "outputs": [],
   "source": [
    "def search_graphs(term):\n",
    "    \n",
    "    files = fetch_json(json_location)\n",
    "    jobs = {}\n",
    "    for f in files:\n",
    "        jobs[f] = experiment.readJSON(f)\n",
    "    \n",
    "    results = []\n",
    "    result_match = []\n",
    "    for name in jobs:\n",
    "        if term in jobs[name][\"tags\"] :\n",
    "            results.append(name)\n",
    "            result_match.append(jobs[name][\"tags\"])\n",
    "        elif term in jobs[name][\"config\"]:\n",
    "            results.append(name)\n",
    "            result_match.append(jobs[name][\"config\"])\n",
    "        elif term in jobs[name][\"desc\"]:\n",
    "            results.append(name)\n",
    "            result_match.append(jobs[name][\"desc\"])\n",
    "        \n",
    "    display(Markdown(\"## Results:\"))\n",
    "    index = 0\n",
    "    for r in results:\n",
    "        display(Markdown(\"---\"))\n",
    "        display(Markdown(\"Index: \"+str(index)+\" \"+r))\n",
    "        if type(result_match[index]) is list:\n",
    "            display(Markdown(\"Matching: \"+\",\".join(result_match[index]) ))\n",
    "        else:\n",
    "            display(Markdown(\"Matching: \"+result_match[index]))\n",
    "        index +=1\n",
    "    if len(results) == 0:\n",
    "        display(Markdown(\"## No Results Found\"))\n",
    "    return results"
   ]
  },
  {
   "cell_type": "code",
   "execution_count": 231,
   "metadata": {},
   "outputs": [],
   "source": [
    "json_location = \"/Users/lucasch/Documents/path_less_traveled/json\""
   ]
  },
  {
   "cell_type": "code",
   "execution_count": 232,
   "metadata": {},
   "outputs": [],
   "source": [
    "## Fetch all json in given json directory\n",
    "j = fetch_json(json_location)"
   ]
  },
  {
   "cell_type": "code",
   "execution_count": 244,
   "metadata": {
    "scrolled": false
   },
   "outputs": [
    {
     "data": {
      "text/markdown": [
       "## Results:"
      ],
      "text/plain": [
       "<IPython.core.display.Markdown object>"
      ]
     },
     "metadata": {},
     "output_type": "display_data"
    },
    {
     "data": {
      "text/markdown": [
       "---"
      ],
      "text/plain": [
       "<IPython.core.display.Markdown object>"
      ]
     },
     "metadata": {},
     "output_type": "display_data"
    },
    {
     "data": {
      "text/markdown": [
       "Index: 0 /Users/lucasch/Documents/path_less_traveled/json/ycsb_baseline_workload-1kb_runtime__573d1438.json"
      ],
      "text/plain": [
       "<IPython.core.display.Markdown object>"
      ]
     },
     "metadata": {},
     "output_type": "display_data"
    },
    {
     "data": {
      "text/markdown": [
       "Matching: ycsb,256mb,default,15-trials,workload-1kb,runtime,baseline"
      ],
      "text/plain": [
       "<IPython.core.display.Markdown object>"
      ]
     },
     "metadata": {},
     "output_type": "display_data"
    },
    {
     "data": {
      "text/markdown": [
       "---"
      ],
      "text/plain": [
       "<IPython.core.display.Markdown object>"
      ]
     },
     "metadata": {},
     "output_type": "display_data"
    },
    {
     "data": {
      "text/markdown": [
       "Index: 1 /Users/lucasch/Documents/path_less_traveled/json/ycsb_baseline_workloada_runtime__2ee98eb5.json"
      ],
      "text/plain": [
       "<IPython.core.display.Markdown object>"
      ]
     },
     "metadata": {},
     "output_type": "display_data"
    },
    {
     "data": {
      "text/markdown": [
       "Matching: ycsb,256mb,default,15-trials,workloada,runtime,baseline"
      ],
      "text/plain": [
       "<IPython.core.display.Markdown object>"
      ]
     },
     "metadata": {},
     "output_type": "display_data"
    },
    {
     "data": {
      "text/markdown": [
       "---"
      ],
      "text/plain": [
       "<IPython.core.display.Markdown object>"
      ]
     },
     "metadata": {},
     "output_type": "display_data"
    },
    {
     "data": {
      "text/markdown": [
       "Index: 2 /Users/lucasch/Documents/path_less_traveled/json/ycsb_baseline_workloada_read_avg_latency__63cc5fda.json"
      ],
      "text/plain": [
       "<IPython.core.display.Markdown object>"
      ]
     },
     "metadata": {},
     "output_type": "display_data"
    },
    {
     "data": {
      "text/markdown": [
       "Matching: ycsb,256mb,default,15-trials,workloada,read_avg_latency,baseline"
      ],
      "text/plain": [
       "<IPython.core.display.Markdown object>"
      ]
     },
     "metadata": {},
     "output_type": "display_data"
    },
    {
     "data": {
      "text/markdown": [
       "---"
      ],
      "text/plain": [
       "<IPython.core.display.Markdown object>"
      ]
     },
     "metadata": {},
     "output_type": "display_data"
    },
    {
     "data": {
      "text/markdown": [
       "Index: 3 /Users/lucasch/Documents/path_less_traveled/json/ycsb_baseline_workloada_throughput__1803d54c.json"
      ],
      "text/plain": [
       "<IPython.core.display.Markdown object>"
      ]
     },
     "metadata": {},
     "output_type": "display_data"
    },
    {
     "data": {
      "text/markdown": [
       "Matching: ycsb,256mb,default,15-trials,workloada,throughput,baseline"
      ],
      "text/plain": [
       "<IPython.core.display.Markdown object>"
      ]
     },
     "metadata": {},
     "output_type": "display_data"
    },
    {
     "data": {
      "text/markdown": [
       "---"
      ],
      "text/plain": [
       "<IPython.core.display.Markdown object>"
      ]
     },
     "metadata": {},
     "output_type": "display_data"
    },
    {
     "data": {
      "text/markdown": [
       "Index: 4 /Users/lucasch/Documents/path_less_traveled/json/ycsb_baseline_workload-100kb_throughput__18f362b6.json"
      ],
      "text/plain": [
       "<IPython.core.display.Markdown object>"
      ]
     },
     "metadata": {},
     "output_type": "display_data"
    },
    {
     "data": {
      "text/markdown": [
       "Matching: ycsb,256mb,default,15-trials,workload-100kb,throughput,baseline"
      ],
      "text/plain": [
       "<IPython.core.display.Markdown object>"
      ]
     },
     "metadata": {},
     "output_type": "display_data"
    },
    {
     "data": {
      "text/markdown": [
       "---"
      ],
      "text/plain": [
       "<IPython.core.display.Markdown object>"
      ]
     },
     "metadata": {},
     "output_type": "display_data"
    },
    {
     "data": {
      "text/markdown": [
       "Index: 5 /Users/lucasch/Documents/path_less_traveled/json/ycsb_baseline_workloada_read_min_latency__211f3cb6.json"
      ],
      "text/plain": [
       "<IPython.core.display.Markdown object>"
      ]
     },
     "metadata": {},
     "output_type": "display_data"
    },
    {
     "data": {
      "text/markdown": [
       "Matching: ycsb,256mb,default,15-trials,workloada,read_min_latency,baseline"
      ],
      "text/plain": [
       "<IPython.core.display.Markdown object>"
      ]
     },
     "metadata": {},
     "output_type": "display_data"
    },
    {
     "data": {
      "text/markdown": [
       "---"
      ],
      "text/plain": [
       "<IPython.core.display.Markdown object>"
      ]
     },
     "metadata": {},
     "output_type": "display_data"
    },
    {
     "data": {
      "text/markdown": [
       "Index: 6 /Users/lucasch/Documents/path_less_traveled/json/ycsb_baseline_workload-100kb_read_min_latency__5ce4c68d.json"
      ],
      "text/plain": [
       "<IPython.core.display.Markdown object>"
      ]
     },
     "metadata": {},
     "output_type": "display_data"
    },
    {
     "data": {
      "text/markdown": [
       "Matching: ycsb,256mb,default,15-trials,workload-100kb,read_min_latency,baseline"
      ],
      "text/plain": [
       "<IPython.core.display.Markdown object>"
      ]
     },
     "metadata": {},
     "output_type": "display_data"
    },
    {
     "data": {
      "text/markdown": [
       "---"
      ],
      "text/plain": [
       "<IPython.core.display.Markdown object>"
      ]
     },
     "metadata": {},
     "output_type": "display_data"
    },
    {
     "data": {
      "text/markdown": [
       "Index: 7 /Users/lucasch/Documents/path_less_traveled/json/ycsb_baseline_workload-1kb_throughput__c47b25de.json"
      ],
      "text/plain": [
       "<IPython.core.display.Markdown object>"
      ]
     },
     "metadata": {},
     "output_type": "display_data"
    },
    {
     "data": {
      "text/markdown": [
       "Matching: ycsb,256mb,default,15-trials,workload-1kb,throughput,baseline"
      ],
      "text/plain": [
       "<IPython.core.display.Markdown object>"
      ]
     },
     "metadata": {},
     "output_type": "display_data"
    },
    {
     "data": {
      "text/markdown": [
       "---"
      ],
      "text/plain": [
       "<IPython.core.display.Markdown object>"
      ]
     },
     "metadata": {},
     "output_type": "display_data"
    },
    {
     "data": {
      "text/markdown": [
       "Index: 8 /Users/lucasch/Documents/path_less_traveled/json/ycsb_baseline_workload-100kb_runtime__4cfcca08.json"
      ],
      "text/plain": [
       "<IPython.core.display.Markdown object>"
      ]
     },
     "metadata": {},
     "output_type": "display_data"
    },
    {
     "data": {
      "text/markdown": [
       "Matching: ycsb,256mb,default,15-trials,workload-100kb,runtime,baseline"
      ],
      "text/plain": [
       "<IPython.core.display.Markdown object>"
      ]
     },
     "metadata": {},
     "output_type": "display_data"
    },
    {
     "data": {
      "text/markdown": [
       "---"
      ],
      "text/plain": [
       "<IPython.core.display.Markdown object>"
      ]
     },
     "metadata": {},
     "output_type": "display_data"
    },
    {
     "data": {
      "text/markdown": [
       "Index: 9 /Users/lucasch/Documents/path_less_traveled/json/ycsb_baseline_workloada_read_max_latency__8fa4c3b6.json"
      ],
      "text/plain": [
       "<IPython.core.display.Markdown object>"
      ]
     },
     "metadata": {},
     "output_type": "display_data"
    },
    {
     "data": {
      "text/markdown": [
       "Matching: ycsb,256mb,default,15-trials,workloada,read_max_latency,baseline"
      ],
      "text/plain": [
       "<IPython.core.display.Markdown object>"
      ]
     },
     "metadata": {},
     "output_type": "display_data"
    },
    {
     "data": {
      "text/markdown": [
       "---"
      ],
      "text/plain": [
       "<IPython.core.display.Markdown object>"
      ]
     },
     "metadata": {},
     "output_type": "display_data"
    },
    {
     "data": {
      "text/markdown": [
       "Index: 10 /Users/lucasch/Documents/path_less_traveled/json/ycsb_baseline_workload-100kb_read_max_latency__52ef73f9.json"
      ],
      "text/plain": [
       "<IPython.core.display.Markdown object>"
      ]
     },
     "metadata": {},
     "output_type": "display_data"
    },
    {
     "data": {
      "text/markdown": [
       "Matching: ycsb,256mb,default,15-trials,workload-100kb,read_max_latency,baseline"
      ],
      "text/plain": [
       "<IPython.core.display.Markdown object>"
      ]
     },
     "metadata": {},
     "output_type": "display_data"
    },
    {
     "data": {
      "text/markdown": [
       "---"
      ],
      "text/plain": [
       "<IPython.core.display.Markdown object>"
      ]
     },
     "metadata": {},
     "output_type": "display_data"
    },
    {
     "data": {
      "text/markdown": [
       "Index: 11 /Users/lucasch/Documents/path_less_traveled/json/ycsb_baseline_workload-1kb_read_avg_latency__22e9894c.json"
      ],
      "text/plain": [
       "<IPython.core.display.Markdown object>"
      ]
     },
     "metadata": {},
     "output_type": "display_data"
    },
    {
     "data": {
      "text/markdown": [
       "Matching: ycsb,256mb,default,15-trials,workload-1kb,read_avg_latency,baseline"
      ],
      "text/plain": [
       "<IPython.core.display.Markdown object>"
      ]
     },
     "metadata": {},
     "output_type": "display_data"
    },
    {
     "data": {
      "text/markdown": [
       "---"
      ],
      "text/plain": [
       "<IPython.core.display.Markdown object>"
      ]
     },
     "metadata": {},
     "output_type": "display_data"
    },
    {
     "data": {
      "text/markdown": [
       "Index: 12 /Users/lucasch/Documents/path_less_traveled/json/ycsb_baseline_workload-1kb_read_max_latency__c3c7a7c0.json"
      ],
      "text/plain": [
       "<IPython.core.display.Markdown object>"
      ]
     },
     "metadata": {},
     "output_type": "display_data"
    },
    {
     "data": {
      "text/markdown": [
       "Matching: ycsb,256mb,default,15-trials,workload-1kb,read_max_latency,baseline"
      ],
      "text/plain": [
       "<IPython.core.display.Markdown object>"
      ]
     },
     "metadata": {},
     "output_type": "display_data"
    },
    {
     "data": {
      "text/markdown": [
       "---"
      ],
      "text/plain": [
       "<IPython.core.display.Markdown object>"
      ]
     },
     "metadata": {},
     "output_type": "display_data"
    },
    {
     "data": {
      "text/markdown": [
       "Index: 13 /Users/lucasch/Documents/path_less_traveled/json/rsync_baseline_39bdbd6e.json"
      ],
      "text/plain": [
       "<IPython.core.display.Markdown object>"
      ]
     },
     "metadata": {},
     "output_type": "display_data"
    },
    {
     "data": {
      "text/markdown": [
       "Matching: rsync,baseline,25mb,256mb,600mb,default,1G,25G,75G,15-trials"
      ],
      "text/plain": [
       "<IPython.core.display.Markdown object>"
      ]
     },
     "metadata": {},
     "output_type": "display_data"
    },
    {
     "data": {
      "text/markdown": [
       "---"
      ],
      "text/plain": [
       "<IPython.core.display.Markdown object>"
      ]
     },
     "metadata": {},
     "output_type": "display_data"
    },
    {
     "data": {
      "text/markdown": [
       "Index: 14 /Users/lucasch/Documents/path_less_traveled/json/rsync_baseline_12d946e7.json"
      ],
      "text/plain": [
       "<IPython.core.display.Markdown object>"
      ]
     },
     "metadata": {},
     "output_type": "display_data"
    },
    {
     "data": {
      "text/markdown": [
       "Matching: rsync,baseline,25mb,256mb,600mb,default,1G,25G,75G,15-trials"
      ],
      "text/plain": [
       "<IPython.core.display.Markdown object>"
      ]
     },
     "metadata": {},
     "output_type": "display_data"
    },
    {
     "data": {
      "text/markdown": [
       "---"
      ],
      "text/plain": [
       "<IPython.core.display.Markdown object>"
      ]
     },
     "metadata": {},
     "output_type": "display_data"
    },
    {
     "data": {
      "text/markdown": [
       "Index: 15 /Users/lucasch/Documents/path_less_traveled/json/ycsb_baseline_workload-100kb_read_avg_latency__1dbeefea.json"
      ],
      "text/plain": [
       "<IPython.core.display.Markdown object>"
      ]
     },
     "metadata": {},
     "output_type": "display_data"
    },
    {
     "data": {
      "text/markdown": [
       "Matching: ycsb,256mb,default,15-trials,workload-100kb,read_avg_latency,baseline"
      ],
      "text/plain": [
       "<IPython.core.display.Markdown object>"
      ]
     },
     "metadata": {},
     "output_type": "display_data"
    },
    {
     "data": {
      "text/markdown": [
       "---"
      ],
      "text/plain": [
       "<IPython.core.display.Markdown object>"
      ]
     },
     "metadata": {},
     "output_type": "display_data"
    },
    {
     "data": {
      "text/markdown": [
       "Index: 16 /Users/lucasch/Documents/path_less_traveled/json/rsync_congestion_23b3efc7.json"
      ],
      "text/plain": [
       "<IPython.core.display.Markdown object>"
      ]
     },
     "metadata": {},
     "output_type": "display_data"
    },
    {
     "data": {
      "text/markdown": [
       "Matching: rsync,congestion,25mb,256mb,600mb,default,1G,25G,75G,15-trials,dynamic-congestion,v.93"
      ],
      "text/plain": [
       "<IPython.core.display.Markdown object>"
      ]
     },
     "metadata": {},
     "output_type": "display_data"
    },
    {
     "data": {
      "text/markdown": [
       "---"
      ],
      "text/plain": [
       "<IPython.core.display.Markdown object>"
      ]
     },
     "metadata": {},
     "output_type": "display_data"
    },
    {
     "data": {
      "text/markdown": [
       "Index: 17 /Users/lucasch/Documents/path_less_traveled/json/ycsb_baseline_workload-1kb_read_min_latency__95ec6908.json"
      ],
      "text/plain": [
       "<IPython.core.display.Markdown object>"
      ]
     },
     "metadata": {},
     "output_type": "display_data"
    },
    {
     "data": {
      "text/markdown": [
       "Matching: ycsb,256mb,default,15-trials,workload-1kb,read_min_latency,baseline"
      ],
      "text/plain": [
       "<IPython.core.display.Markdown object>"
      ]
     },
     "metadata": {},
     "output_type": "display_data"
    }
   ],
   "source": [
    "jobs = search_graphs(\"256mb\")"
   ]
  },
  {
   "cell_type": "code",
   "execution_count": null,
   "metadata": {},
   "outputs": [],
   "source": []
  },
  {
   "cell_type": "code",
   "execution_count": 247,
   "metadata": {
    "scrolled": false
   },
   "outputs": [
    {
     "data": {
      "text/markdown": [
       "### Graph: \n"
      ],
      "text/plain": [
       "<IPython.core.display.Markdown object>"
      ]
     },
     "metadata": {},
     "output_type": "display_data"
    },
    {
     "data": {
      "image/png": "[encoded data removed]",
      "text/plain": [
       "<IPython.core.display.Image object>"
      ]
     },
     "metadata": {},
     "output_type": "display_data"
    },
    {
     "data": {
      "text/markdown": [
       "### Name: \n",
       "ycsb_baseline_workload-1kb_runtime_"
      ],
      "text/plain": [
       "<IPython.core.display.Markdown object>"
      ]
     },
     "metadata": {},
     "output_type": "display_data"
    },
    {
     "name": "stdout",
     "output_type": "stream",
     "text": [
      "\n"
     ]
    },
    {
     "data": {
      "text/markdown": [
       "### Description: \n",
       "This is a graph that shows the baseline performance of ycsb. We compared buffers of size default and 256mb. We ran 15 trials with workloada, a 98/1/1 workload for read/insert/update with 100kb and 1kb objects. This shows the runtime for workload-1kb"
      ],
      "text/plain": [
       "<IPython.core.display.Markdown object>"
      ]
     },
     "metadata": {},
     "output_type": "display_data"
    },
    {
     "name": "stdout",
     "output_type": "stream",
     "text": [
      "\n"
     ]
    },
    {
     "data": {
      "text/markdown": [
       "### Cofiguration: \n",
       "buffers: default,256mb workloads: workloada,workload_1kb,workload_100kb"
      ],
      "text/plain": [
       "<IPython.core.display.Markdown object>"
      ]
     },
     "metadata": {},
     "output_type": "display_data"
    },
    {
     "name": "stdout",
     "output_type": "stream",
     "text": [
      "\n"
     ]
    },
    {
     "data": {
      "text/markdown": [
       "### Tags:\n",
       "ycsb,256mb,default,15-trials,workload-1kb,runtime,baseline"
      ],
      "text/plain": [
       "<IPython.core.display.Markdown object>"
      ]
     },
     "metadata": {},
     "output_type": "display_data"
    },
    {
     "name": "stdout",
     "output_type": "stream",
     "text": [
      "\n"
     ]
    },
    {
     "data": {
      "text/markdown": [
       "### Image Location:\n",
       "/Users/lucasch/Documents/path_less_traveled/graphs/ycsb_baseline_workload-1kb_runtime_.png"
      ],
      "text/plain": [
       "<IPython.core.display.Markdown object>"
      ]
     },
     "metadata": {},
     "output_type": "display_data"
    },
    {
     "name": "stdout",
     "output_type": "stream",
     "text": [
      "\n"
     ]
    },
    {
     "data": {
      "text/markdown": [
       "### Data Location:\n",
       "/Users/lucasch/Documents/path_less_traveled/kernel_93/ycsb/ycsb_baseline/csv/results_fixed.csv"
      ],
      "text/plain": [
       "<IPython.core.display.Markdown object>"
      ]
     },
     "metadata": {},
     "output_type": "display_data"
    }
   ],
   "source": [
    "index= 4\n",
    "\n",
    "graph = experiment.readJSON(jobs[0])\n",
    "df = display_data(graph) "
   ]
  },
  {
   "cell_type": "code",
   "execution_count": null,
   "metadata": {},
   "outputs": [],
   "source": []
  },
  {
   "cell_type": "code",
   "execution_count": null,
   "metadata": {},
   "outputs": [],
   "source": []
  },
  {
   "cell_type": "code",
   "execution_count": null,
   "metadata": {},
   "outputs": [],
   "source": []
  }
 ],
 "metadata": {
  "kernelspec": {
   "display_name": "Python 3",
   "language": "python",
   "name": "python3"
  },
  "language_info": {
   "codemirror_mode": {
    "name": "ipython",
    "version": 3
   },
   "file_extension": ".py",
   "mimetype": "text/x-python",
   "name": "python",
   "nbconvert_exporter": "python",
   "pygments_lexer": "ipython3",
   "version": "3.6.3"
  }
 },
 "nbformat": 4,
 "nbformat_minor": 2
}
